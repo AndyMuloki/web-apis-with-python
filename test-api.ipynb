{
 "cells": [
  {
   "cell_type": "code",
   "execution_count": null,
   "id": "d747f6fe-9d60-45ca-85f9-330959799349",
   "metadata": {},
   "outputs": [],
   "source": [
    "import requests\n",
    "import json\n",
    "\n",
    "URL = \"https://astroqpid-test-app-2eb43dd70348.herokuapp.com/\"\n",
    "response = requests.get(URL)\n",
    "response.raise_for_status\n",
    "json.loads(response.content.decode(\"utf-8\"))"
   ]
  },
  {
   "cell_type": "code",
   "execution_count": 3,
   "id": "f40cf7bb-7631-4591-849a-c344f986f877",
   "metadata": {},
   "outputs": [
    {
     "name": "stdout",
     "output_type": "stream",
     "text": [
      "Attempting to connect...\n",
      "Status Code: 502\n",
      "Headers: {'Connection': 'keep-alive', 'Server': 'Cowboy', 'Date': 'Thu, 13 Feb 2025 12:27:15 GMT', 'Content-Length': '2476', 'Report-To': '{\"group\":\"heroku-nel\",\"max_age\":3600,\"endpoints\":[{\"url\":\"https://nel.heroku.com/reports?ts=1739449635&sid=c4c9725f-1ab0-44d8-820f-430df2718e11&s=eWJ5R%2FNqJjpCnaPFH0Z9qm%2FBVXw8TrydeB75ihgkULE%3D\"}]}', 'Reporting-Endpoints': 'heroku-nel=https://nel.heroku.com/reports?ts=1739449635&sid=c4c9725f-1ab0-44d8-820f-430df2718e11&s=eWJ5R%2FNqJjpCnaPFH0Z9qm%2FBVXw8TrydeB75ihgkULE%3D', 'Nel': '{\"report_to\":\"heroku-nel\",\"max_age\":3600,\"success_fraction\":0.005,\"failure_fraction\":0.05,\"response_headers\":[\"Via\"]}', 'Content-Type': 'text/html; charset=utf-8', 'Cache-Control': 'no-cache, no-store'}\n",
      "Response Content: <!DOCTYPE html>\n",
      "    <html>\n",
      "      <head>\n",
      "        <title>Heroku | Welcome to your new app!</title>\n",
      "        <style type='text/css'>\n",
      "      body {\n",
      "        background-color: white;\n",
      "        color: #333333;\n",
      "          font-family: Arial, sans-serif;\n",
      "        margin: 0;\n",
      "        padding: 36px;\n",
      "        line-height: 1;\n",
      "        font-size: 14px; }\n",
      "\n",
      "      .section {\n",
      "        margin-bottom: 36px; }\n",
      "        .section.friendly {\n",
      "          color: #222222; }\n",
      "          .section.friendly h1 {\n",
      "            font-size: 26px;\n"
     ]
    }
   ],
   "source": [
    "import requests\n",
    "import json\n",
    "from requests.exceptions import RequestException\n",
    "\n",
    "URL = \"https://astroqpid-test-app-2eb43dd70348.herokuapp.com/\"\n",
    "\n",
    "def test_endpoint():\n",
    "    try:\n",
    "        print(\"Attempting to connect...\")\n",
    "        response = requests.get(URL, timeout=30)  # Adding a timeout\n",
    "        \n",
    "        print(f\"Status Code: {response.status_code}\")\n",
    "        print(f\"Headers: {dict(response.headers)}\")\n",
    "        print(f\"Response Content: {response.text[:500]}\")  # First 500 chars of response\n",
    "        \n",
    "        return response\n",
    "        \n",
    "    except RequestException as e:\n",
    "        print(f\"Request failed: {str(e)}\")\n",
    "        return None\n",
    "\n",
    "# Run the test\n",
    "response = test_endpoint()"
   ]
  },
  {
   "cell_type": "code",
   "execution_count": null,
   "id": "5f8b3284-53f8-47ae-9cb3-00fe144bba8a",
   "metadata": {},
   "outputs": [],
   "source": []
  }
 ],
 "metadata": {
  "kernelspec": {
   "display_name": "Python 3 (ipykernel)",
   "language": "python",
   "name": "python3"
  },
  "language_info": {
   "codemirror_mode": {
    "name": "ipython",
    "version": 3
   },
   "file_extension": ".py",
   "mimetype": "text/x-python",
   "name": "python",
   "nbconvert_exporter": "python",
   "pygments_lexer": "ipython3",
   "version": "3.12.4"
  }
 },
 "nbformat": 4,
 "nbformat_minor": 5
}
